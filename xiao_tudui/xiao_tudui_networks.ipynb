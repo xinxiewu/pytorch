{
 "cells": [
  {
   "cell_type": "markdown",
   "metadata": {},
   "source": [
    "torch.nn \\\n",
    "&emsp; 1. Containers - Structure \\\n",
    "&emsp; &emsp; (a) Module - Base class for all neural network modules \\\n",
    "&emsp; &emsp; &emsp; i. init() & forward() - forward defines the computation performed at every call \\\n",
    "&emsp; &emsp; &emsp; ii. All our modules should subclass this one \\\n",
    "&emsp; 2. Convolution Layers \\\n",
    "&emsp; &emsp; (a) Conv1d \\\n",
    "&emsp; &emsp; (b) Conv2d \\\n",
    "&emsp; &emsp; &emsp; i. stride - movement (single number or tuple (sH, sW)) \\\n",
    "&emsp; &emsp; &emsp; ii. weight - kernel \\\n",
    "&emsp; &emsp; &emsp; iii. padding - padding of both sides of input, default as 0 (single number or tuple (padH, padW)) \\\n",
    "&emsp; 3. Pooling Layers \\\n",
    "&emsp; &emsp; (a) MaxPool2d() - Keep important information, but reduce data volume \\\n",
    "&emsp; 4. Non-linear Activations (weighted sum, nonlinearity) \\\n",
    "&emsp; &emsp; (a) ReLU \\\n",
    "&emsp; &emsp; (b) Sigmoid \\\n",
    "&emsp; 5. Normalization Layers - Speed up training (BatchNorm2d()) \\\n",
    "&emsp; 6. Recurrent Layers - LSTM(), RNN() - Text Classification \\\n",
    "&emsp; 7. Transformer Layers - Transformer() \\\n",
    "&emsp; 8. Linear Layers \\\n",
    "&emsp; &emsp; (a) Linear \\\n",
    "&emsp; 9. Dropout Layers - Dropout() (NLP, prevent overfitting) \\\n",
    "&emsp; 10. Sparse Layers"
   ]
  },
  {
   "cell_type": "code",
   "execution_count": 10,
   "metadata": {},
   "outputs": [
    {
     "name": "stderr",
     "output_type": "stream",
     "text": [
      "c:\\Users\\Xinxie Wu\\AppData\\Local\\Programs\\Python\\Python310\\lib\\site-packages\\torchvision\\io\\image.py:13: UserWarning: Failed to load image Python extension: 'Could not find module 'C:\\Users\\Xinxie Wu\\AppData\\Local\\Programs\\Python\\Python310\\Lib\\site-packages\\torchvision\\image.pyd' (or one of its dependencies). Try using the full path with constructor syntax.'If you don't plan on using image functionality from `torchvision.io`, you can ignore this warning. Otherwise, there might be something wrong with your environment. Did you have `libjpeg` or `libpng` installed before building `torchvision` from source?\n",
      "  warn(\n"
     ]
    }
   ],
   "source": [
    "from torch import nn\n",
    "import torch\n",
    "import torchvision\n",
    "from torch.utils.data import DataLoader"
   ]
  },
  {
   "cell_type": "code",
   "execution_count": 2,
   "metadata": {},
   "outputs": [],
   "source": [
    "class MyNetwork(nn.Module):\n",
    "    def __init__(self):\n",
    "        super().__init__()\n",
    "\n",
    "    def forward(self, x):\n",
    "        y = x + 1\n",
    "        return y"
   ]
  },
  {
   "cell_type": "code",
   "execution_count": 3,
   "metadata": {},
   "outputs": [
    {
     "name": "stdout",
     "output_type": "stream",
     "text": [
      "tensor(2.)\n"
     ]
    }
   ],
   "source": [
    "mynetwork = MyNetwork()\n",
    "x = torch.tensor(1.0)\n",
    "output = mynetwork(x)\n",
    "print(output)"
   ]
  },
  {
   "cell_type": "markdown",
   "metadata": {},
   "source": [
    "Conv2d() example"
   ]
  },
  {
   "cell_type": "code",
   "execution_count": 6,
   "metadata": {},
   "outputs": [],
   "source": [
    "import torch.nn.functional as F"
   ]
  },
  {
   "cell_type": "code",
   "execution_count": 4,
   "metadata": {},
   "outputs": [],
   "source": [
    "input = torch.tensor([[1,2,0,3,1],\n",
    "                      [0,1,2,3,1],\n",
    "                      [1,2,1,0,0],\n",
    "                      [5,2,3,1,1],\n",
    "                      [2,1,0,1,1]])\n",
    "\n",
    "kernel = torch.tensor([[1,2,1],\n",
    "                       [0,1,0],\n",
    "                       [2,1,0]])"
   ]
  },
  {
   "cell_type": "code",
   "execution_count": 5,
   "metadata": {},
   "outputs": [],
   "source": [
    "input = torch.reshape(input, (1,1,5,5))\n",
    "kernel = torch.reshape(kernel, (1,1,3,3))"
   ]
  },
  {
   "cell_type": "code",
   "execution_count": 7,
   "metadata": {},
   "outputs": [
    {
     "name": "stdout",
     "output_type": "stream",
     "text": [
      "tensor([[[[10, 12, 12],\n",
      "          [18, 16, 16],\n",
      "          [13,  9,  3]]]])\n"
     ]
    }
   ],
   "source": [
    "output = F.conv2d(input, kernel, stride=1)\n",
    "print(output)"
   ]
  },
  {
   "cell_type": "code",
   "execution_count": 8,
   "metadata": {},
   "outputs": [
    {
     "name": "stdout",
     "output_type": "stream",
     "text": [
      "tensor([[[[10, 12],\n",
      "          [13,  3]]]])\n"
     ]
    }
   ],
   "source": [
    "output = F.conv2d(input, kernel, stride=2)\n",
    "print(output)"
   ]
  },
  {
   "cell_type": "code",
   "execution_count": 9,
   "metadata": {},
   "outputs": [
    {
     "name": "stdout",
     "output_type": "stream",
     "text": [
      "tensor([[[[ 1,  3,  4, 10,  8],\n",
      "          [ 5, 10, 12, 12,  6],\n",
      "          [ 7, 18, 16, 16,  8],\n",
      "          [11, 13,  9,  3,  4],\n",
      "          [14, 13,  9,  7,  4]]]])\n"
     ]
    }
   ],
   "source": [
    "output3 = F.conv2d(input, kernel, stride=1, padding=1)\n",
    "print(output3)"
   ]
  },
  {
   "cell_type": "markdown",
   "metadata": {},
   "source": [
    "MaxPool2d() examples"
   ]
  },
  {
   "cell_type": "code",
   "execution_count": 13,
   "metadata": {},
   "outputs": [],
   "source": [
    "input = torch.tensor([[1,2,0,3,1],\n",
    "                      [0,1,2,3,1],\n",
    "                      [1,2,1,0,0],\n",
    "                      [5,2,3,1,1],\n",
    "                      [2,1,0,1,1]], dtype=torch.float32)\n",
    "\n",
    "kernel = torch.tensor([[1,2,1],\n",
    "                       [0,1,0],\n",
    "                       [2,1,0]])\n",
    "\n",
    "input = torch.reshape(input, (-1,1,5,5))\n",
    "kernel = torch.reshape(kernel, (1,1,3,3))"
   ]
  },
  {
   "cell_type": "code",
   "execution_count": 18,
   "metadata": {},
   "outputs": [],
   "source": [
    "class MyNetwork(nn.Module):\n",
    "    def __init__(self):\n",
    "        super(MyNetwork, self).__init__()\n",
    "        self.maxpool1 = nn.MaxPool2d(kernel_size=3,ceil_mode=True)\n",
    "    \n",
    "    def forward(self, x):\n",
    "        y = self.maxpool1(x)\n",
    "        return y"
   ]
  },
  {
   "cell_type": "code",
   "execution_count": 19,
   "metadata": {},
   "outputs": [
    {
     "name": "stdout",
     "output_type": "stream",
     "text": [
      "tensor([[[[2., 3.],\n",
      "          [5., 1.]]]])\n"
     ]
    }
   ],
   "source": [
    "mynetwork = MyNetwork()\n",
    "output = mynetwork(input)\n",
    "print(output)"
   ]
  },
  {
   "cell_type": "markdown",
   "metadata": {},
   "source": [
    "ReLU examples"
   ]
  },
  {
   "cell_type": "code",
   "execution_count": 20,
   "metadata": {},
   "outputs": [],
   "source": [
    "input = torch.tensor([[1,-0.5],\n",
    "                      [-1,3]], dtype=torch.float32)\n",
    "\n",
    "input = torch.reshape(input, (-1,1,2,2))"
   ]
  },
  {
   "cell_type": "code",
   "execution_count": 21,
   "metadata": {},
   "outputs": [],
   "source": [
    "class MyNetwork(nn.Module):\n",
    "    def __init__(self):\n",
    "        super(MyNetwork, self).__init__()\n",
    "        self.relu1 = nn.ReLU()\n",
    "    \n",
    "    def forward(self, x):\n",
    "        y = self.relu1(x)\n",
    "        return y"
   ]
  },
  {
   "cell_type": "code",
   "execution_count": 22,
   "metadata": {},
   "outputs": [
    {
     "name": "stdout",
     "output_type": "stream",
     "text": [
      "tensor([[[[1., 0.],\n",
      "          [0., 3.]]]])\n"
     ]
    }
   ],
   "source": [
    "mynetwork = MyNetwork()\n",
    "output = mynetwork(input)\n",
    "print(output)"
   ]
  },
  {
   "cell_type": "markdown",
   "metadata": {},
   "source": [
    "Linear examples"
   ]
  },
  {
   "cell_type": "code",
   "execution_count": null,
   "metadata": {},
   "outputs": [],
   "source": []
  }
 ],
 "metadata": {
  "kernelspec": {
   "display_name": "Python 3",
   "language": "python",
   "name": "python3"
  },
  "language_info": {
   "codemirror_mode": {
    "name": "ipython",
    "version": 3
   },
   "file_extension": ".py",
   "mimetype": "text/x-python",
   "name": "python",
   "nbconvert_exporter": "python",
   "pygments_lexer": "ipython3",
   "version": "3.10.9"
  },
  "orig_nbformat": 4
 },
 "nbformat": 4,
 "nbformat_minor": 2
}
